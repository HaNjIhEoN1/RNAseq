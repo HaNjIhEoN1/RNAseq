{
 "cells": [
  {
   "cell_type": "code",
   "execution_count": 1,
   "id": "4abe76b6-093a-4e9e-a011-df5a2f80f224",
   "metadata": {},
   "outputs": [],
   "source": [
    "import pandas as pd"
   ]
  },
  {
   "cell_type": "code",
   "execution_count": 2,
   "id": "d1e592a6-0a62-477e-beca-e3bb43d0d449",
   "metadata": {},
   "outputs": [],
   "source": [
    "f = open('/data/doodle/my_list.txt')"
   ]
  },
  {
   "cell_type": "code",
   "execution_count": 3,
   "id": "c26cb59d-2275-487d-a417-700a50f913a4",
   "metadata": {},
   "outputs": [],
   "source": [
    "test=f.read()"
   ]
  },
  {
   "cell_type": "code",
   "execution_count": 4,
   "id": "84ab81ae-b49a-4396-a568-6a1499b8326e",
   "metadata": {},
   "outputs": [],
   "source": [
    "test1 = test.replace('\\n','')"
   ]
  },
  {
   "cell_type": "code",
   "execution_count": 5,
   "id": "b0d1ce4d-e12b-4ccc-a354-65c222f500d5",
   "metadata": {},
   "outputs": [
    {
     "data": {
      "text/plain": [
       "'$RAP[1] \"Os01g0106400\" \"Os01g0106400\"$MSU[1] LOC_Os01g01660   LOC_Os01g01660.1121543 Levels: LOC_Os01g01010 ... None$RAP[1] \"Os01g0110050\"$MSU[1] None121543 Levels: LOC_Os01g01010 ... None$RAP[1] \"Os01g0110100\" \"Os01g0110100\"$MSU[1] LOC_Os01g02000   LOC_Os01g02000.1121543 Levels: LOC_Os01g01010 ... None$RAP[1] \"Os01g0113500\"$MSU[1] None121543 Levels: LOC_Os01g01010 ... None$RAP[1] \"Os01g0114100\" \"Os01g0114100\" \"Os01g0114100\"$MSU[1] LOC_Os01g02390.1 LOC_Os01g02390.2[3] LOC_Os01g02390  121543 Levels: LOC_Os01g01010 ... None$RAP[1] \"Os01g0119000\" \"Os01g0119000\"$MSU[1] LOC_Os01g02930.1 LOC_Os01g02930  121543 Levels: LOC_Os01g01010 ... None$RAP[1] \"Os01g0121500\" \"Os01g0121500\"$MSU[1] LOC_Os01g03130.1 LOC_Os01g03130  121543 Levels: LOC_Os01g01010 ... None$RAP[1] \"Os01g0121600\" \"Os01g0121600\"$MSU[1] LOC_Os01g03144   LOC_Os01g03144.1121543 Levels: LOC_Os01g01010 ... None$RAP[1] \"Os01g0124550\"$MSU[1] None121543 Levels: LOC_Os01g01010 ... None$RAP[1] \"Os01g0126100\" \"Os01g0126100\" \"Os01g0126100\"$MSU[1] LOC_Os01g03530.2 LOC_Os01g03530  [3] LOC_Os01g03530.1121543 Levels: LOC_Os01g01010 ... None$RAP[1] \"Os01g0134700\" \"Os01g0134700\"$MSU[1] LOC_Os01g04280   LOC_Os01g04280.1121543 Levels: LOC_Os01g01010 ... None$RAP[1] \"Os01g0135600\" \"Os01g0135600\"$MSU[1] LOC_Os01g04324.1 LOC_Os01g04324  121543 Levels: LOC_Os01g01010 ... None$RAP[1] \"Os01g0150500\" \"Os01g0150500\"$MSU[1] LOC_Os01g05720.1 LOC_Os01g05720  121543 Levels: LOC_Os01g01010 ... None$RAP[1] \"Os01g0151700\" \"Os01g0151700\" \"Os01g0151700\"$MSU[1] LOC_Os01g05840.1 LOC_Os01g05840.2[3] LOC_Os01g05840  121543 Levels: LOC_Os01g01010 ... None$RAP[1] \"Os01g0155000\" \"Os01g0155000\"$MSU[1] LOC_Os01g06220.1 LOC_Os01g06220  121543 Levels: LOC_Os01g01010 ... None$RAP[1] \"Os01g0163450\"$MSU[1] None121543 Levels: LOC_Os01g01010 ... None$RAP[1] \"Os01g0164075\" \"Os01g0164075\"$MSU[1] LOC_Os01g07030   LOC_Os01g07030.1121543 Levels: LOC_Os01g01010 ... None$RAP[1] \"Os01g0164300\" \"Os01g0164300\"$MSU[1] LOC_Os01g07060   LOC_Os01g07060.1121543 Levels: LOC_Os01g01010 ... None$RAP[1] \"Os01g0172600\" \"Os01g0172600\"$MSU[1] LOC_Os01g07770.1 LOC_Os01g07770  121543 Levels: LOC_Os01g01010 ... None$RAP[1] \"Os01g0173600\" \"Os01g0173600\"$MSU[1] LOC_Os01g07850.1 LOC_Os01g07850  121543 Levels: LOC_Os01g01010 ... None$RAP[1] \"Os01g0175850\"$MSU[1] None121543 Levels: LOC_Os01g01010 ... None$RAP[1] \"Os01g0183850\"$MSU[1] None121543 Levels: LOC_Os01g01010 ... None$RAP[1] \"Os01g0183950\"$MSU[1] None121543 Levels: LOC_Os01g01010 ... None$RAP[1] \"Os01g0192500\" \"Os01g0192500\"$MSU[1] LOC_Os01g09660   LOC_Os01g09660.1121543 Levels: LOC_Os01g01010 ... None$RAP[1] \"Os01g0195300\" \"Os01g0195300\"$MSU[1] LOC_Os01g09870   LOC_Os01g09870.1121543 Levels: LOC_Os01g01010 ... None$RAP[1] \"Os01g0200200\" \"Os01g0200200\"$MSU[1] LOC_Os01g10310   LOC_Os01g10310.1121543 Levels: LOC_Os01g01010 ... None$RAP[1] \"Os01g0200600\" \"Os01g0200600\"$MSU[1] LOC_Os01g10370   LOC_Os01g10370.1121543 Levels: LOC_Os01g01010 ... None$RAP[1] \"Os01g0214500\" \"Os01g0214500\"$MSU[1] LOC_Os01g11600   LOC_Os01g11600.1121543 Levels: LOC_Os01g01010 ... None$RAP[1] \"Os01g0216000\" \"Os01g0216000\"$MSU[1] LOC_Os01g11730   LOC_Os01g11730.1121543 Levels: LOC_Os01g01010 ... None$RAP[1] \"Os01g0221900\" \"Os01g0221900\"$MSU[1] LOC_Os01g12230.1 LOC_Os01g12230  121543 Levels: LOC_Os01g01010 ... None$RAP[1] \"Os01g0222900\"$MSU[1] None121543 Levels: LOC_Os01g01010 ... None$RAP[1] \"Os01g0229800\" \"Os01g0229800\"$MSU[1] LOC_Os01g12940   LOC_Os01g12940.1121543 Levels: LOC_Os01g01010 ... None$RAP[1] \"Os01g0237500\" \"Os01g0237500\"$MSU[1] LOC_Os01g13610   LOC_Os01g13610.1121543 Levels: LOC_Os01g01010 ... None$RAP[1] \"Os01g0237750\" \"Os01g0237750\"$MSU[1] LOC_Os01g13610.1 LOC_Os01g13610  121543 Levels: LOC_Os01g01010 ... None$RAP[1] \"Os01g0241400\" \"Os01g0241400\"$MSU[1] LOC_Os01g13950.1 LOC_Os01g13950  121543 Levels: LOC_Os01g01010 ... None$RAP[1] \"Os01g0242800\"$MSU[1] None121543 Levels: LOC_Os01g01010 ... None$RAP[1] \"Os01g0247700\" \"Os01g0247700\"$MSU[1] LOC_Os01g14520.1 LOC_Os01g14520  121543 Levels: LOC_Os01g01010 ... None$RAP[1] \"Os01g0256500\" \"Os01g0256500\"$MSU[1] LOC_Os01g15270.1 LOC_Os01g15270  121543 Levels: LOC_Os01g01010 ... None$RAP[1] \"Os01g0259966\"$MSU[1] None121543 Levels: LOC_Os01g01010 ... None$RAP[1] \"Os01g0266500\" \"Os01g0266500\"$MSU[1] LOC_Os01g16146   LOC_Os01g16146.1121543 Levels: LOC_Os01g01010 ... None$RAP[1] \"Os01g0267300\" \"Os01g0267300\"$MSU[1] LOC_Os01g16200.1 LOC_Os01g16200  121543 Levels: LOC_Os01g01010 ... None$RAP[1] \"Os01g0280500\" \"Os01g0280500\" \"Os01g0280500\"$MSU[1] LOC_Os01g17330.2 LOC_Os01g17330  [3] LOC_Os01g17330.1121543 Levels: LOC_Os01g01010 ... None$RAP[1] \"Os01g0284900\" \"Os01g0284900\"$MSU[1] LOC_Os01g18220.1 LOC_Os01g18220  121543 Levels: LOC_Os01g01010 ... None$RAP[1] \"Os01g0288200\" \"Os01g0288200\"$MSU[1] LOC_Os01g18450.1 LOC_Os01g18450  121543 Levels: LOC_Os01g01010 ... None$RAP[1] \"Os01g0302250\"$MSU[1] None121543 Levels: LOC_Os01g01010 ... None$RAP[1] \"Os01g0307500\" \"Os01g0307500\"$MSU[1] LOC_Os01g20160   LOC_Os01g20160.1121543 Levels: LOC_Os01g01010 ... None$RAP[1] \"Os01g0307686\" \"Os01g0307686\"$MSU[1] LOC_Os01g20206   LOC_Os01g20206.1121543 Levels: LOC_Os01g01010 ... None$RAP[1] \"Os01g0308200\"$MSU[1] None121543 Levels: LOC_Os01g01010 ... None$RAP[1] \"Os01g0309800\" \"Os01g0309800\"$MSU[1] LOC_Os01g20830.1 LOC_Os01g20830  121543 Levels: LOC_Os01g01010 ... None$RAP[1] \"Os01g0310700\"$MSU[1] None121543 Levels: LOC_Os01g01010 ... None'"
      ]
     },
     "execution_count": 5,
     "metadata": {},
     "output_type": "execute_result"
    }
   ],
   "source": [
    "test1"
   ]
  },
  {
   "cell_type": "code",
   "execution_count": 15,
   "id": "979b45e6-13d3-49aa-923e-bbe80c60487e",
   "metadata": {},
   "outputs": [
    {
     "data": {
      "text/plain": [
       "'Os01g0106400'"
      ]
     },
     "execution_count": 15,
     "metadata": {},
     "output_type": "execute_result"
    }
   ],
   "source": [
    "test1.split('$RAP')[1].split(\" \")[1].split('\"')[1]"
   ]
  },
  {
   "cell_type": "code",
   "execution_count": 19,
   "id": "aa5d3861-7978-43e7-8e05-5946e54da66d",
   "metadata": {},
   "outputs": [
    {
     "data": {
      "text/plain": [
       "'LOC_Os01g01660'"
      ]
     },
     "execution_count": 19,
     "metadata": {},
     "output_type": "execute_result"
    }
   ],
   "source": [
    "test1.split('$MSU')[1].split(\" \")[1].split(\".\")[0]"
   ]
  },
  {
   "cell_type": "code",
   "execution_count": 8,
   "id": "46fa7846-b512-4941-b24a-839d23c44938",
   "metadata": {},
   "outputs": [],
   "source": [
    "length = len(test.split('$RAP'))-1"
   ]
  },
  {
   "cell_type": "code",
   "execution_count": 9,
   "id": "8b1d8d19-7a3f-408d-ae6c-f8477dd524dd",
   "metadata": {},
   "outputs": [
    {
     "data": {
      "text/plain": [
       "50"
      ]
     },
     "execution_count": 9,
     "metadata": {},
     "output_type": "execute_result"
    }
   ],
   "source": [
    "length"
   ]
  },
  {
   "cell_type": "code",
   "execution_count": 16,
   "id": "8934d05e-5858-4a35-b0bc-29771298a392",
   "metadata": {},
   "outputs": [],
   "source": [
    "convert = {}\n",
    "for i in range(1,51):\n",
    "    RAP = test1.split('$RAP')[i].split(\" \")[1].split('\"')[1]\n",
    "    MSU = test1.split('$MSU')[i].split(\" \")[1].split(\".\")[0]\n",
    "    convert[RAP] = MSU"
   ]
  },
  {
   "cell_type": "code",
   "execution_count": 21,
   "id": "3636e4b1-3d88-44cb-a53f-bc903fdb03ea",
   "metadata": {
    "tags": []
   },
   "outputs": [],
   "source": [
    "c = pd.DataFrame(convert,index=[0])"
   ]
  },
  {
   "cell_type": "code",
   "execution_count": 24,
   "id": "a14f689d-6fe3-4bf3-bab5-75dfcae3027b",
   "metadata": {},
   "outputs": [],
   "source": [
    "complete = c.T"
   ]
  },
  {
   "cell_type": "code",
   "execution_count": 29,
   "id": "2afa5ea5-2636-48c7-803f-6f44907016a7",
   "metadata": {},
   "outputs": [
    {
     "data": {
      "text/html": [
       "<div>\n",
       "<style scoped>\n",
       "    .dataframe tbody tr th:only-of-type {\n",
       "        vertical-align: middle;\n",
       "    }\n",
       "\n",
       "    .dataframe tbody tr th {\n",
       "        vertical-align: top;\n",
       "    }\n",
       "\n",
       "    .dataframe thead th {\n",
       "        text-align: right;\n",
       "    }\n",
       "</style>\n",
       "<table border=\"1\" class=\"dataframe\">\n",
       "  <thead>\n",
       "    <tr style=\"text-align: right;\">\n",
       "      <th></th>\n",
       "      <th>0</th>\n",
       "    </tr>\n",
       "  </thead>\n",
       "  <tbody>\n",
       "    <tr>\n",
       "      <th>Os01g0106400</th>\n",
       "      <td>LOC_Os01g01660</td>\n",
       "    </tr>\n",
       "    <tr>\n",
       "      <th>Os01g0110050</th>\n",
       "      <td>None121543</td>\n",
       "    </tr>\n",
       "    <tr>\n",
       "      <th>Os01g0110100</th>\n",
       "      <td>LOC_Os01g02000</td>\n",
       "    </tr>\n",
       "    <tr>\n",
       "      <th>Os01g0113500</th>\n",
       "      <td>None121543</td>\n",
       "    </tr>\n",
       "    <tr>\n",
       "      <th>Os01g0114100</th>\n",
       "      <td>LOC_Os01g02390</td>\n",
       "    </tr>\n",
       "  </tbody>\n",
       "</table>\n",
       "</div>"
      ],
      "text/plain": [
       "                           0\n",
       "Os01g0106400  LOC_Os01g01660\n",
       "Os01g0110050      None121543\n",
       "Os01g0110100  LOC_Os01g02000\n",
       "Os01g0113500      None121543\n",
       "Os01g0114100  LOC_Os01g02390"
      ]
     },
     "execution_count": 29,
     "metadata": {},
     "output_type": "execute_result"
    }
   ],
   "source": [
    "complete.head()"
   ]
  },
  {
   "cell_type": "code",
   "execution_count": 32,
   "id": "8cc75445-1806-443f-a683-c268781df2e8",
   "metadata": {},
   "outputs": [],
   "source": [
    "idx = complete[complete[0]=='None121543'].index"
   ]
  },
  {
   "cell_type": "code",
   "execution_count": 33,
   "id": "f195aa5c-5bc8-46ed-8557-93bb3cb82298",
   "metadata": {},
   "outputs": [],
   "source": [
    "comp = complete.drop(idx)"
   ]
  },
  {
   "cell_type": "code",
   "execution_count": 35,
   "id": "22fb1bd8-0d01-4e4c-8ea4-3e0c0fbb9b70",
   "metadata": {},
   "outputs": [],
   "source": [
    "comp.to_excel('/data/doodle/convert.xlsx')"
   ]
  }
 ],
 "metadata": {
  "kernelspec": {
   "display_name": "Python 3 (ipykernel)",
   "language": "python",
   "name": "python3"
  },
  "language_info": {
   "codemirror_mode": {
    "name": "ipython",
    "version": 3
   },
   "file_extension": ".py",
   "mimetype": "text/x-python",
   "name": "python",
   "nbconvert_exporter": "python",
   "pygments_lexer": "ipython3",
   "version": "3.11.0"
  }
 },
 "nbformat": 4,
 "nbformat_minor": 5
}
