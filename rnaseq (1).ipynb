{
 "cells": [
  {
   "cell_type": "code",
   "execution_count": 1,
   "id": "eee8848c-8655-4196-8bf4-7c6d1a0eb78c",
   "metadata": {},
   "outputs": [],
   "source": [
    "import pandas as pd"
   ]
  },
  {
   "cell_type": "code",
   "execution_count": 2,
   "id": "1879f248-3ff4-4c3f-9e12-375a6be2f051",
   "metadata": {},
   "outputs": [],
   "source": [
    "As = pd.read_csv('/data/doodle/as.csv') "
   ]
  },
  {
   "cell_type": "code",
   "execution_count": 3,
   "id": "0c15aa89-2e08-435b-b79d-05e39f8edc86",
   "metadata": {},
   "outputs": [],
   "source": [
    "Cd = pd.read_csv('/data/doodle/CD.csv')"
   ]
  },
  {
   "cell_type": "code",
   "execution_count": 4,
   "id": "507aa062-7dc3-4a5c-a73b-0748b59b16ff",
   "metadata": {},
   "outputs": [
    {
     "data": {
      "text/plain": [
       "1083"
      ]
     },
     "execution_count": 4,
     "metadata": {},
     "output_type": "execute_result"
    }
   ],
   "source": [
    "len(As)"
   ]
  },
  {
   "cell_type": "code",
   "execution_count": 5,
   "id": "ee291c3c-bc04-45ac-b3cc-5a90c32be3a8",
   "metadata": {},
   "outputs": [
    {
     "data": {
      "text/plain": [
       "1762"
      ]
     },
     "execution_count": 5,
     "metadata": {},
     "output_type": "execute_result"
    }
   ],
   "source": [
    "len(Cd)"
   ]
  },
  {
   "cell_type": "code",
   "execution_count": 6,
   "id": "5112e9e4-8f4b-457b-8981-7ad836128685",
   "metadata": {},
   "outputs": [
    {
     "data": {
      "text/html": [
       "<div>\n",
       "<style scoped>\n",
       "    .dataframe tbody tr th:only-of-type {\n",
       "        vertical-align: middle;\n",
       "    }\n",
       "\n",
       "    .dataframe tbody tr th {\n",
       "        vertical-align: top;\n",
       "    }\n",
       "\n",
       "    .dataframe thead th {\n",
       "        text-align: right;\n",
       "    }\n",
       "</style>\n",
       "<table border=\"1\" class=\"dataframe\">\n",
       "  <thead>\n",
       "    <tr style=\"text-align: right;\">\n",
       "      <th></th>\n",
       "      <th>gene</th>\n",
       "      <th>baseMean</th>\n",
       "      <th>log2FoldChange</th>\n",
       "      <th>lfcSE</th>\n",
       "      <th>stat</th>\n",
       "      <th>pvalue</th>\n",
       "      <th>padj</th>\n",
       "    </tr>\n",
       "  </thead>\n",
       "  <tbody>\n",
       "    <tr>\n",
       "      <th>0</th>\n",
       "      <td>gene-psbB</td>\n",
       "      <td>86.982938</td>\n",
       "      <td>2.726863</td>\n",
       "      <td>0.858675</td>\n",
       "      <td>3.175662</td>\n",
       "      <td>1.494951e-03</td>\n",
       "      <td>7.735492e-03</td>\n",
       "    </tr>\n",
       "    <tr>\n",
       "      <th>1</th>\n",
       "      <td>Os01g0102600</td>\n",
       "      <td>109.175543</td>\n",
       "      <td>2.818524</td>\n",
       "      <td>0.760710</td>\n",
       "      <td>3.705123</td>\n",
       "      <td>2.112880e-04</td>\n",
       "      <td>1.446684e-03</td>\n",
       "    </tr>\n",
       "    <tr>\n",
       "      <th>2</th>\n",
       "      <td>Os01g0105300</td>\n",
       "      <td>16.927367</td>\n",
       "      <td>2.181575</td>\n",
       "      <td>0.610285</td>\n",
       "      <td>3.574683</td>\n",
       "      <td>3.506520e-04</td>\n",
       "      <td>2.252113e-03</td>\n",
       "    </tr>\n",
       "    <tr>\n",
       "      <th>3</th>\n",
       "      <td>Os01g0106400</td>\n",
       "      <td>1446.250122</td>\n",
       "      <td>-3.726076</td>\n",
       "      <td>0.411893</td>\n",
       "      <td>-9.046231</td>\n",
       "      <td>1.480000e-19</td>\n",
       "      <td>7.590000e-18</td>\n",
       "    </tr>\n",
       "    <tr>\n",
       "      <th>4</th>\n",
       "      <td>Os01g0106900</td>\n",
       "      <td>2113.140589</td>\n",
       "      <td>-2.108748</td>\n",
       "      <td>0.180506</td>\n",
       "      <td>-11.682395</td>\n",
       "      <td>1.570000e-31</td>\n",
       "      <td>2.070000e-29</td>\n",
       "    </tr>\n",
       "  </tbody>\n",
       "</table>\n",
       "</div>"
      ],
      "text/plain": [
       "           gene     baseMean  log2FoldChange     lfcSE       stat  \\\n",
       "0     gene-psbB    86.982938        2.726863  0.858675   3.175662   \n",
       "1  Os01g0102600   109.175543        2.818524  0.760710   3.705123   \n",
       "2  Os01g0105300    16.927367        2.181575  0.610285   3.574683   \n",
       "3  Os01g0106400  1446.250122       -3.726076  0.411893  -9.046231   \n",
       "4  Os01g0106900  2113.140589       -2.108748  0.180506 -11.682395   \n",
       "\n",
       "         pvalue          padj  \n",
       "0  1.494951e-03  7.735492e-03  \n",
       "1  2.112880e-04  1.446684e-03  \n",
       "2  3.506520e-04  2.252113e-03  \n",
       "3  1.480000e-19  7.590000e-18  \n",
       "4  1.570000e-31  2.070000e-29  "
      ]
     },
     "execution_count": 6,
     "metadata": {},
     "output_type": "execute_result"
    }
   ],
   "source": [
    "Cd.head()"
   ]
  },
  {
   "cell_type": "code",
   "execution_count": 7,
   "id": "a39c4b34-4c63-4b8b-a03b-f359df4418a8",
   "metadata": {},
   "outputs": [
    {
     "data": {
      "text/html": [
       "<div>\n",
       "<style scoped>\n",
       "    .dataframe tbody tr th:only-of-type {\n",
       "        vertical-align: middle;\n",
       "    }\n",
       "\n",
       "    .dataframe tbody tr th {\n",
       "        vertical-align: top;\n",
       "    }\n",
       "\n",
       "    .dataframe thead th {\n",
       "        text-align: right;\n",
       "    }\n",
       "</style>\n",
       "<table border=\"1\" class=\"dataframe\">\n",
       "  <thead>\n",
       "    <tr style=\"text-align: right;\">\n",
       "      <th></th>\n",
       "      <th>gene</th>\n",
       "      <th>baseMean</th>\n",
       "      <th>log2FoldChange</th>\n",
       "      <th>lfcSE</th>\n",
       "      <th>stat</th>\n",
       "      <th>pvalue</th>\n",
       "      <th>padj</th>\n",
       "    </tr>\n",
       "  </thead>\n",
       "  <tbody>\n",
       "    <tr>\n",
       "      <th>0</th>\n",
       "      <td>Os01g0106400</td>\n",
       "      <td>915.811691</td>\n",
       "      <td>-3.097902</td>\n",
       "      <td>0.385730</td>\n",
       "      <td>-8.031270</td>\n",
       "      <td>9.650000e-16</td>\n",
       "      <td>6.320000e-14</td>\n",
       "    </tr>\n",
       "    <tr>\n",
       "      <th>1</th>\n",
       "      <td>Os01g0110050</td>\n",
       "      <td>20.237043</td>\n",
       "      <td>2.054200</td>\n",
       "      <td>0.571372</td>\n",
       "      <td>3.595206</td>\n",
       "      <td>3.241350e-04</td>\n",
       "      <td>2.238842e-03</td>\n",
       "    </tr>\n",
       "    <tr>\n",
       "      <th>2</th>\n",
       "      <td>Os01g0110100</td>\n",
       "      <td>138.169158</td>\n",
       "      <td>2.333515</td>\n",
       "      <td>0.344982</td>\n",
       "      <td>6.764156</td>\n",
       "      <td>1.340000e-11</td>\n",
       "      <td>5.070000e-10</td>\n",
       "    </tr>\n",
       "    <tr>\n",
       "      <th>3</th>\n",
       "      <td>Os01g0113500</td>\n",
       "      <td>41.882404</td>\n",
       "      <td>-4.102633</td>\n",
       "      <td>0.538460</td>\n",
       "      <td>-7.619200</td>\n",
       "      <td>2.550000e-14</td>\n",
       "      <td>1.420000e-12</td>\n",
       "    </tr>\n",
       "    <tr>\n",
       "      <th>4</th>\n",
       "      <td>Os01g0114100</td>\n",
       "      <td>604.020467</td>\n",
       "      <td>-2.198700</td>\n",
       "      <td>0.288425</td>\n",
       "      <td>-7.623118</td>\n",
       "      <td>2.480000e-14</td>\n",
       "      <td>1.390000e-12</td>\n",
       "    </tr>\n",
       "  </tbody>\n",
       "</table>\n",
       "</div>"
      ],
      "text/plain": [
       "           gene    baseMean  log2FoldChange     lfcSE      stat        pvalue  \\\n",
       "0  Os01g0106400  915.811691       -3.097902  0.385730 -8.031270  9.650000e-16   \n",
       "1  Os01g0110050   20.237043        2.054200  0.571372  3.595206  3.241350e-04   \n",
       "2  Os01g0110100  138.169158        2.333515  0.344982  6.764156  1.340000e-11   \n",
       "3  Os01g0113500   41.882404       -4.102633  0.538460 -7.619200  2.550000e-14   \n",
       "4  Os01g0114100  604.020467       -2.198700  0.288425 -7.623118  2.480000e-14   \n",
       "\n",
       "           padj  \n",
       "0  6.320000e-14  \n",
       "1  2.238842e-03  \n",
       "2  5.070000e-10  \n",
       "3  1.420000e-12  \n",
       "4  1.390000e-12  "
      ]
     },
     "execution_count": 7,
     "metadata": {},
     "output_type": "execute_result"
    }
   ],
   "source": [
    "As.head()"
   ]
  },
  {
   "cell_type": "code",
   "execution_count": 8,
   "id": "96b71d16-4268-4bfa-ab0f-31158834c980",
   "metadata": {},
   "outputs": [],
   "source": [
    "dic = []\n",
    "for i in As['gene']:\n",
    "    for j in Cd.index:\n",
    "        if i == Cd.at[j,'gene']:\n",
    "            dic.append(Cd.at[j,'gene'])\n",
    "        else :\n",
    "            pass           "
   ]
  },
  {
   "cell_type": "code",
   "execution_count": 9,
   "id": "c61ebc45-0806-4eb2-9e33-239eef4a9ef2",
   "metadata": {},
   "outputs": [],
   "source": [
    "b=pd.DataFrame(dic)"
   ]
  },
  {
   "cell_type": "code",
   "execution_count": 10,
   "id": "ac64b2b4-6dc7-4a99-a8be-0e371beda68b",
   "metadata": {},
   "outputs": [
    {
     "data": {
      "text/html": [
       "<div>\n",
       "<style scoped>\n",
       "    .dataframe tbody tr th:only-of-type {\n",
       "        vertical-align: middle;\n",
       "    }\n",
       "\n",
       "    .dataframe tbody tr th {\n",
       "        vertical-align: top;\n",
       "    }\n",
       "\n",
       "    .dataframe thead th {\n",
       "        text-align: right;\n",
       "    }\n",
       "</style>\n",
       "<table border=\"1\" class=\"dataframe\">\n",
       "  <thead>\n",
       "    <tr style=\"text-align: right;\">\n",
       "      <th></th>\n",
       "      <th>0</th>\n",
       "    </tr>\n",
       "  </thead>\n",
       "  <tbody>\n",
       "    <tr>\n",
       "      <th>0</th>\n",
       "      <td>Os01g0106400</td>\n",
       "    </tr>\n",
       "    <tr>\n",
       "      <th>1</th>\n",
       "      <td>Os01g0113500</td>\n",
       "    </tr>\n",
       "    <tr>\n",
       "      <th>2</th>\n",
       "      <td>Os01g0114100</td>\n",
       "    </tr>\n",
       "    <tr>\n",
       "      <th>3</th>\n",
       "      <td>Os01g0121500</td>\n",
       "    </tr>\n",
       "    <tr>\n",
       "      <th>4</th>\n",
       "      <td>Os01g0121600</td>\n",
       "    </tr>\n",
       "    <tr>\n",
       "      <th>...</th>\n",
       "      <td>...</td>\n",
       "    </tr>\n",
       "    <tr>\n",
       "      <th>559</th>\n",
       "      <td>Os12g0614500</td>\n",
       "    </tr>\n",
       "    <tr>\n",
       "      <th>560</th>\n",
       "      <td>Os12g0617250</td>\n",
       "    </tr>\n",
       "    <tr>\n",
       "      <th>561</th>\n",
       "      <td>Os12g0622850</td>\n",
       "    </tr>\n",
       "    <tr>\n",
       "      <th>562</th>\n",
       "      <td>Os12g0624300</td>\n",
       "    </tr>\n",
       "    <tr>\n",
       "      <th>563</th>\n",
       "      <td>Os12g0639500</td>\n",
       "    </tr>\n",
       "  </tbody>\n",
       "</table>\n",
       "<p>564 rows × 1 columns</p>\n",
       "</div>"
      ],
      "text/plain": [
       "                0\n",
       "0    Os01g0106400\n",
       "1    Os01g0113500\n",
       "2    Os01g0114100\n",
       "3    Os01g0121500\n",
       "4    Os01g0121600\n",
       "..            ...\n",
       "559  Os12g0614500\n",
       "560  Os12g0617250\n",
       "561  Os12g0622850\n",
       "562  Os12g0624300\n",
       "563  Os12g0639500\n",
       "\n",
       "[564 rows x 1 columns]"
      ]
     },
     "execution_count": 10,
     "metadata": {},
     "output_type": "execute_result"
    }
   ],
   "source": [
    "b"
   ]
  },
  {
   "cell_type": "code",
   "execution_count": 19,
   "id": "77c53638-c30c-4ce7-aebc-87c248c0cf5b",
   "metadata": {},
   "outputs": [],
   "source": [
    "b.to_excel('/data/doodle/match.xlsx')"
   ]
  },
  {
   "cell_type": "code",
   "execution_count": 13,
   "id": "b0482ab3-13c0-433d-b1b4-6cee19d8fe30",
   "metadata": {},
   "outputs": [],
   "source": [
    "cde = pd.read_csv('/data/doodle/cdddedger.csv') "
   ]
  },
  {
   "cell_type": "code",
   "execution_count": 14,
   "id": "9533d77d-6c91-49ea-8781-c5bc22c6409d",
   "metadata": {},
   "outputs": [],
   "source": [
    "cde = cde.drop(columns= ['TXNAME','GENEID'])"
   ]
  },
  {
   "cell_type": "code",
   "execution_count": 15,
   "id": "fc8e6579-0752-438b-b032-3d190a3b4a99",
   "metadata": {},
   "outputs": [
    {
     "data": {
      "text/html": [
       "<div>\n",
       "<style scoped>\n",
       "    .dataframe tbody tr th:only-of-type {\n",
       "        vertical-align: middle;\n",
       "    }\n",
       "\n",
       "    .dataframe tbody tr th {\n",
       "        vertical-align: top;\n",
       "    }\n",
       "\n",
       "    .dataframe thead th {\n",
       "        text-align: right;\n",
       "    }\n",
       "</style>\n",
       "<table border=\"1\" class=\"dataframe\">\n",
       "  <thead>\n",
       "    <tr style=\"text-align: right;\">\n",
       "      <th></th>\n",
       "      <th>trans</th>\n",
       "      <th>logFC</th>\n",
       "      <th>logCPM</th>\n",
       "      <th>F</th>\n",
       "      <th>PValue</th>\n",
       "      <th>FDR</th>\n",
       "      <th>gene</th>\n",
       "      <th>Unnamed: 7</th>\n",
       "      <th>Unnamed: 8</th>\n",
       "    </tr>\n",
       "  </thead>\n",
       "  <tbody>\n",
       "    <tr>\n",
       "      <th>0</th>\n",
       "      <td>Os12t0258700-01</td>\n",
       "      <td>3.261553</td>\n",
       "      <td>7.668786</td>\n",
       "      <td>705.828748</td>\n",
       "      <td>1.270000e-09</td>\n",
       "      <td>0.000013</td>\n",
       "      <td>Os12g0258700</td>\n",
       "      <td>NaN</td>\n",
       "      <td>NaN</td>\n",
       "    </tr>\n",
       "    <tr>\n",
       "      <th>1</th>\n",
       "      <td>Os08t0455900-00</td>\n",
       "      <td>6.503562</td>\n",
       "      <td>2.712952</td>\n",
       "      <td>688.329884</td>\n",
       "      <td>1.410000e-09</td>\n",
       "      <td>0.000013</td>\n",
       "      <td>Os08g0455900</td>\n",
       "      <td>NaN</td>\n",
       "      <td>NaN</td>\n",
       "    </tr>\n",
       "    <tr>\n",
       "      <th>2</th>\n",
       "      <td>Os09t0489500-01</td>\n",
       "      <td>-4.216829</td>\n",
       "      <td>4.167302</td>\n",
       "      <td>688.098162</td>\n",
       "      <td>1.410000e-09</td>\n",
       "      <td>0.000013</td>\n",
       "      <td>Os09g0489500</td>\n",
       "      <td>NaN</td>\n",
       "      <td>NaN</td>\n",
       "    </tr>\n",
       "    <tr>\n",
       "      <th>3</th>\n",
       "      <td>Os01t0557100-01</td>\n",
       "      <td>3.801885</td>\n",
       "      <td>6.133866</td>\n",
       "      <td>632.181436</td>\n",
       "      <td>2.040000e-09</td>\n",
       "      <td>0.000013</td>\n",
       "      <td>Os01g0557100</td>\n",
       "      <td>NaN</td>\n",
       "      <td>NaN</td>\n",
       "    </tr>\n",
       "    <tr>\n",
       "      <th>4</th>\n",
       "      <td>Os01t0946600-01</td>\n",
       "      <td>3.757370</td>\n",
       "      <td>7.845944</td>\n",
       "      <td>601.114731</td>\n",
       "      <td>2.530000e-09</td>\n",
       "      <td>0.000013</td>\n",
       "      <td>Os01g0946600</td>\n",
       "      <td>NaN</td>\n",
       "      <td>NaN</td>\n",
       "    </tr>\n",
       "  </tbody>\n",
       "</table>\n",
       "</div>"
      ],
      "text/plain": [
       "             trans     logFC    logCPM           F        PValue       FDR  \\\n",
       "0  Os12t0258700-01  3.261553  7.668786  705.828748  1.270000e-09  0.000013   \n",
       "1  Os08t0455900-00  6.503562  2.712952  688.329884  1.410000e-09  0.000013   \n",
       "2  Os09t0489500-01 -4.216829  4.167302  688.098162  1.410000e-09  0.000013   \n",
       "3  Os01t0557100-01  3.801885  6.133866  632.181436  2.040000e-09  0.000013   \n",
       "4  Os01t0946600-01  3.757370  7.845944  601.114731  2.530000e-09  0.000013   \n",
       "\n",
       "           gene  Unnamed: 7  Unnamed: 8  \n",
       "0  Os12g0258700         NaN         NaN  \n",
       "1  Os08g0455900         NaN         NaN  \n",
       "2  Os09g0489500         NaN         NaN  \n",
       "3  Os01g0557100         NaN         NaN  \n",
       "4  Os01g0946600         NaN         NaN  "
      ]
     },
     "execution_count": 15,
     "metadata": {},
     "output_type": "execute_result"
    }
   ],
   "source": [
    "cde.head()"
   ]
  },
  {
   "cell_type": "code",
   "execution_count": 26,
   "id": "61a9f585-afe1-4df1-a66c-617b83a2722f",
   "metadata": {},
   "outputs": [
    {
     "data": {
      "text/plain": [
       "44761"
      ]
     },
     "execution_count": 26,
     "metadata": {},
     "output_type": "execute_result"
    }
   ],
   "source": [
    "len(cde['gene'])"
   ]
  },
  {
   "cell_type": "code",
   "execution_count": 16,
   "id": "88a4f5da-c393-4dba-891d-7379274a0187",
   "metadata": {},
   "outputs": [],
   "source": [
    "list = []\n",
    "for i in cde['gene']:\n",
    "    if len(cde.loc[cde['gene'] == i])>=2:\n",
    "        list.append(i)\n",
    "    else :\n",
    "        pass"
   ]
  },
  {
   "cell_type": "code",
   "execution_count": 19,
   "id": "c4ab7120-2fa9-418f-b234-db4a6de7458b",
   "metadata": {},
   "outputs": [
    {
     "data": {
      "text/plain": [
       "['Os09g0489500',\n",
       " 'Os07g0245100',\n",
       " 'Os04g0178300',\n",
       " 'Os03g0129400',\n",
       " 'Os07g0245100',\n",
       " 'Os03g0734100',\n",
       " 'Os09g0489500',\n",
       " 'Os07g0684800',\n",
       " 'Os03g0757600',\n",
       " 'Os03g0757600',\n",
       " 'Os07g0418500',\n",
       " 'Os07g0597200',\n",
       " 'Os10g0558700',\n",
       " 'Os01g0975900',\n",
       " 'Os07g0684800',\n",
       " 'Os03g0417700',\n",
       " 'Os01g0159800',\n",
       " 'Os04g0178300',\n",
       " 'Os03g0734100',\n",
       " 'Os03g0129400',\n",
       " 'Os12g0183100',\n",
       " 'Os01g0159800',\n",
       " 'Os06g0203200',\n",
       " 'Os04g0650700',\n",
       " 'Os10g0578800',\n",
       " 'Os09g0417600',\n",
       " 'Os03g0417700',\n",
       " 'Os10g0578800',\n",
       " 'Os09g0567500',\n",
       " 'Os09g0417800',\n",
       " 'Os09g0417600',\n",
       " 'Os01g0975900',\n",
       " 'Os09g0417600',\n",
       " 'Os06g0203200',\n",
       " 'Os04g0650700',\n",
       " 'Os12g0183100',\n",
       " 'Os12g0183100',\n",
       " 'Os09g0417800',\n",
       " 'Os10g0558700',\n",
       " 'Os08g0202300',\n",
       " 'Os09g0567500',\n",
       " 'Os07g0597200',\n",
       " 'Os08g0202300',\n",
       " 'Os07g0418500']"
      ]
     },
     "execution_count": 19,
     "metadata": {},
     "output_type": "execute_result"
    }
   ],
   "source": [
    "list"
   ]
  },
  {
   "cell_type": "code",
   "execution_count": 24,
   "id": "54d402a3-976e-4f06-af80-3862f800ce36",
   "metadata": {},
   "outputs": [
    {
     "data": {
      "text/plain": [
       "44"
      ]
     },
     "execution_count": 24,
     "metadata": {},
     "output_type": "execute_result"
    }
   ],
   "source": [
    "len(list)"
   ]
  },
  {
   "cell_type": "code",
   "execution_count": 21,
   "id": "a07e0e13-742b-434f-831a-6c7055707ca4",
   "metadata": {},
   "outputs": [],
   "source": [
    "result = []\n",
    "for value in list:\n",
    "    if value not in result:\n",
    "        result.append(value)"
   ]
  },
  {
   "cell_type": "code",
   "execution_count": 23,
   "id": "7c091095-5168-4f96-963c-426a38a66f38",
   "metadata": {},
   "outputs": [
    {
     "data": {
      "text/plain": [
       "21"
      ]
     },
     "execution_count": 23,
     "metadata": {},
     "output_type": "execute_result"
    }
   ],
   "source": [
    "len(result)"
   ]
  },
  {
   "cell_type": "code",
   "execution_count": 28,
   "id": "c2417398-662f-4cb2-b21c-30414c3782ea",
   "metadata": {},
   "outputs": [
    {
     "data": {
      "text/plain": [
       "21"
      ]
     },
     "execution_count": 28,
     "metadata": {},
     "output_type": "execute_result"
    }
   ],
   "source": [
    "len(set(list))"
   ]
  }
 ],
 "metadata": {
  "kernelspec": {
   "display_name": "Python 3 (ipykernel)",
   "language": "python",
   "name": "python3"
  },
  "language_info": {
   "codemirror_mode": {
    "name": "ipython",
    "version": 3
   },
   "file_extension": ".py",
   "mimetype": "text/x-python",
   "name": "python",
   "nbconvert_exporter": "python",
   "pygments_lexer": "ipython3",
   "version": "3.11.0"
  }
 },
 "nbformat": 4,
 "nbformat_minor": 5
}
