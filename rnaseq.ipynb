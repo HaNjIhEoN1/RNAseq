{
 "cells": [
  {
   "cell_type": "code",
   "execution_count": 3,
   "id": "eee8848c-8655-4196-8bf4-7c6d1a0eb78c",
   "metadata": {},
   "outputs": [],
   "source": [
    "import pandas as pd"
   ]
  },
  {
   "cell_type": "code",
   "execution_count": 4,
   "id": "1879f248-3ff4-4c3f-9e12-375a6be2f051",
   "metadata": {},
   "outputs": [],
   "source": [
    "As = pd.read_csv('/data/doodle/as.csv') "
   ]
  },
  {
   "cell_type": "code",
   "execution_count": 5,
   "id": "0c15aa89-2e08-435b-b79d-05e39f8edc86",
   "metadata": {},
   "outputs": [],
   "source": [
    "Cd = pd.read_csv('/data/doodle/CD.csv')"
   ]
  },
  {
   "cell_type": "code",
   "execution_count": 6,
   "id": "507aa062-7dc3-4a5c-a73b-0748b59b16ff",
   "metadata": {},
   "outputs": [
    {
     "data": {
      "text/plain": [
       "1083"
      ]
     },
     "execution_count": 6,
     "metadata": {},
     "output_type": "execute_result"
    }
   ],
   "source": [
    "len(As)"
   ]
  },
  {
   "cell_type": "code",
   "execution_count": 7,
   "id": "ee291c3c-bc04-45ac-b3cc-5a90c32be3a8",
   "metadata": {},
   "outputs": [
    {
     "data": {
      "text/plain": [
       "1762"
      ]
     },
     "execution_count": 7,
     "metadata": {},
     "output_type": "execute_result"
    }
   ],
   "source": [
    "len(Cd)"
   ]
  },
  {
   "cell_type": "code",
   "execution_count": 8,
   "id": "5112e9e4-8f4b-457b-8981-7ad836128685",
   "metadata": {},
   "outputs": [
    {
     "data": {
      "text/html": [
       "<div>\n",
       "<style scoped>\n",
       "    .dataframe tbody tr th:only-of-type {\n",
       "        vertical-align: middle;\n",
       "    }\n",
       "\n",
       "    .dataframe tbody tr th {\n",
       "        vertical-align: top;\n",
       "    }\n",
       "\n",
       "    .dataframe thead th {\n",
       "        text-align: right;\n",
       "    }\n",
       "</style>\n",
       "<table border=\"1\" class=\"dataframe\">\n",
       "  <thead>\n",
       "    <tr style=\"text-align: right;\">\n",
       "      <th></th>\n",
       "      <th>gene</th>\n",
       "      <th>baseMean</th>\n",
       "      <th>log2FoldChange</th>\n",
       "      <th>lfcSE</th>\n",
       "      <th>stat</th>\n",
       "      <th>pvalue</th>\n",
       "      <th>padj</th>\n",
       "    </tr>\n",
       "  </thead>\n",
       "  <tbody>\n",
       "    <tr>\n",
       "      <th>0</th>\n",
       "      <td>gene-psbB</td>\n",
       "      <td>86.982938</td>\n",
       "      <td>2.726863</td>\n",
       "      <td>0.858675</td>\n",
       "      <td>3.175662</td>\n",
       "      <td>1.494951e-03</td>\n",
       "      <td>7.735492e-03</td>\n",
       "    </tr>\n",
       "    <tr>\n",
       "      <th>1</th>\n",
       "      <td>Os01g0102600</td>\n",
       "      <td>109.175543</td>\n",
       "      <td>2.818524</td>\n",
       "      <td>0.760710</td>\n",
       "      <td>3.705123</td>\n",
       "      <td>2.112880e-04</td>\n",
       "      <td>1.446684e-03</td>\n",
       "    </tr>\n",
       "    <tr>\n",
       "      <th>2</th>\n",
       "      <td>Os01g0105300</td>\n",
       "      <td>16.927367</td>\n",
       "      <td>2.181575</td>\n",
       "      <td>0.610285</td>\n",
       "      <td>3.574683</td>\n",
       "      <td>3.506520e-04</td>\n",
       "      <td>2.252113e-03</td>\n",
       "    </tr>\n",
       "    <tr>\n",
       "      <th>3</th>\n",
       "      <td>Os01g0106400</td>\n",
       "      <td>1446.250122</td>\n",
       "      <td>-3.726076</td>\n",
       "      <td>0.411893</td>\n",
       "      <td>-9.046231</td>\n",
       "      <td>1.480000e-19</td>\n",
       "      <td>7.590000e-18</td>\n",
       "    </tr>\n",
       "    <tr>\n",
       "      <th>4</th>\n",
       "      <td>Os01g0106900</td>\n",
       "      <td>2113.140589</td>\n",
       "      <td>-2.108748</td>\n",
       "      <td>0.180506</td>\n",
       "      <td>-11.682395</td>\n",
       "      <td>1.570000e-31</td>\n",
       "      <td>2.070000e-29</td>\n",
       "    </tr>\n",
       "  </tbody>\n",
       "</table>\n",
       "</div>"
      ],
      "text/plain": [
       "           gene     baseMean  log2FoldChange     lfcSE       stat  \\\n",
       "0     gene-psbB    86.982938        2.726863  0.858675   3.175662   \n",
       "1  Os01g0102600   109.175543        2.818524  0.760710   3.705123   \n",
       "2  Os01g0105300    16.927367        2.181575  0.610285   3.574683   \n",
       "3  Os01g0106400  1446.250122       -3.726076  0.411893  -9.046231   \n",
       "4  Os01g0106900  2113.140589       -2.108748  0.180506 -11.682395   \n",
       "\n",
       "         pvalue          padj  \n",
       "0  1.494951e-03  7.735492e-03  \n",
       "1  2.112880e-04  1.446684e-03  \n",
       "2  3.506520e-04  2.252113e-03  \n",
       "3  1.480000e-19  7.590000e-18  \n",
       "4  1.570000e-31  2.070000e-29  "
      ]
     },
     "execution_count": 8,
     "metadata": {},
     "output_type": "execute_result"
    }
   ],
   "source": [
    "Cd.head()"
   ]
  },
  {
   "cell_type": "code",
   "execution_count": 9,
   "id": "a39c4b34-4c63-4b8b-a03b-f359df4418a8",
   "metadata": {},
   "outputs": [
    {
     "data": {
      "text/html": [
       "<div>\n",
       "<style scoped>\n",
       "    .dataframe tbody tr th:only-of-type {\n",
       "        vertical-align: middle;\n",
       "    }\n",
       "\n",
       "    .dataframe tbody tr th {\n",
       "        vertical-align: top;\n",
       "    }\n",
       "\n",
       "    .dataframe thead th {\n",
       "        text-align: right;\n",
       "    }\n",
       "</style>\n",
       "<table border=\"1\" class=\"dataframe\">\n",
       "  <thead>\n",
       "    <tr style=\"text-align: right;\">\n",
       "      <th></th>\n",
       "      <th>gene</th>\n",
       "      <th>baseMean</th>\n",
       "      <th>log2FoldChange</th>\n",
       "      <th>lfcSE</th>\n",
       "      <th>stat</th>\n",
       "      <th>pvalue</th>\n",
       "      <th>padj</th>\n",
       "    </tr>\n",
       "  </thead>\n",
       "  <tbody>\n",
       "    <tr>\n",
       "      <th>0</th>\n",
       "      <td>Os01g0106400</td>\n",
       "      <td>915.811691</td>\n",
       "      <td>-3.097902</td>\n",
       "      <td>0.385730</td>\n",
       "      <td>-8.031270</td>\n",
       "      <td>9.650000e-16</td>\n",
       "      <td>6.320000e-14</td>\n",
       "    </tr>\n",
       "    <tr>\n",
       "      <th>1</th>\n",
       "      <td>Os01g0110050</td>\n",
       "      <td>20.237043</td>\n",
       "      <td>2.054200</td>\n",
       "      <td>0.571372</td>\n",
       "      <td>3.595206</td>\n",
       "      <td>3.241350e-04</td>\n",
       "      <td>2.238842e-03</td>\n",
       "    </tr>\n",
       "    <tr>\n",
       "      <th>2</th>\n",
       "      <td>Os01g0110100</td>\n",
       "      <td>138.169158</td>\n",
       "      <td>2.333515</td>\n",
       "      <td>0.344982</td>\n",
       "      <td>6.764156</td>\n",
       "      <td>1.340000e-11</td>\n",
       "      <td>5.070000e-10</td>\n",
       "    </tr>\n",
       "    <tr>\n",
       "      <th>3</th>\n",
       "      <td>Os01g0113500</td>\n",
       "      <td>41.882404</td>\n",
       "      <td>-4.102633</td>\n",
       "      <td>0.538460</td>\n",
       "      <td>-7.619200</td>\n",
       "      <td>2.550000e-14</td>\n",
       "      <td>1.420000e-12</td>\n",
       "    </tr>\n",
       "    <tr>\n",
       "      <th>4</th>\n",
       "      <td>Os01g0114100</td>\n",
       "      <td>604.020467</td>\n",
       "      <td>-2.198700</td>\n",
       "      <td>0.288425</td>\n",
       "      <td>-7.623118</td>\n",
       "      <td>2.480000e-14</td>\n",
       "      <td>1.390000e-12</td>\n",
       "    </tr>\n",
       "  </tbody>\n",
       "</table>\n",
       "</div>"
      ],
      "text/plain": [
       "           gene    baseMean  log2FoldChange     lfcSE      stat        pvalue  \\\n",
       "0  Os01g0106400  915.811691       -3.097902  0.385730 -8.031270  9.650000e-16   \n",
       "1  Os01g0110050   20.237043        2.054200  0.571372  3.595206  3.241350e-04   \n",
       "2  Os01g0110100  138.169158        2.333515  0.344982  6.764156  1.340000e-11   \n",
       "3  Os01g0113500   41.882404       -4.102633  0.538460 -7.619200  2.550000e-14   \n",
       "4  Os01g0114100  604.020467       -2.198700  0.288425 -7.623118  2.480000e-14   \n",
       "\n",
       "           padj  \n",
       "0  6.320000e-14  \n",
       "1  2.238842e-03  \n",
       "2  5.070000e-10  \n",
       "3  1.420000e-12  \n",
       "4  1.390000e-12  "
      ]
     },
     "execution_count": 9,
     "metadata": {},
     "output_type": "execute_result"
    }
   ],
   "source": [
    "As.head()"
   ]
  },
  {
   "cell_type": "code",
   "execution_count": 10,
   "id": "96b71d16-4268-4bfa-ab0f-31158834c980",
   "metadata": {},
   "outputs": [],
   "source": [
    "dic = []\n",
    "for i in As['gene']:\n",
    "    for j in Cd.index:\n",
    "        if i == Cd.at[j,'gene']:\n",
    "            dic.append(Cd.at[j,'gene'])\n",
    "        else :\n",
    "            pass           "
   ]
  },
  {
   "cell_type": "code",
   "execution_count": 17,
   "id": "c61ebc45-0806-4eb2-9e33-239eef4a9ef2",
   "metadata": {},
   "outputs": [],
   "source": [
    "b=pd.DataFrame(dic)"
   ]
  },
  {
   "cell_type": "code",
   "execution_count": 18,
   "id": "ac64b2b4-6dc7-4a99-a8be-0e371beda68b",
   "metadata": {},
   "outputs": [
    {
     "data": {
      "text/html": [
       "<div>\n",
       "<style scoped>\n",
       "    .dataframe tbody tr th:only-of-type {\n",
       "        vertical-align: middle;\n",
       "    }\n",
       "\n",
       "    .dataframe tbody tr th {\n",
       "        vertical-align: top;\n",
       "    }\n",
       "\n",
       "    .dataframe thead th {\n",
       "        text-align: right;\n",
       "    }\n",
       "</style>\n",
       "<table border=\"1\" class=\"dataframe\">\n",
       "  <thead>\n",
       "    <tr style=\"text-align: right;\">\n",
       "      <th></th>\n",
       "      <th>0</th>\n",
       "    </tr>\n",
       "  </thead>\n",
       "  <tbody>\n",
       "    <tr>\n",
       "      <th>0</th>\n",
       "      <td>Os01g0106400</td>\n",
       "    </tr>\n",
       "    <tr>\n",
       "      <th>1</th>\n",
       "      <td>Os01g0113500</td>\n",
       "    </tr>\n",
       "    <tr>\n",
       "      <th>2</th>\n",
       "      <td>Os01g0114100</td>\n",
       "    </tr>\n",
       "    <tr>\n",
       "      <th>3</th>\n",
       "      <td>Os01g0121500</td>\n",
       "    </tr>\n",
       "    <tr>\n",
       "      <th>4</th>\n",
       "      <td>Os01g0121600</td>\n",
       "    </tr>\n",
       "    <tr>\n",
       "      <th>...</th>\n",
       "      <td>...</td>\n",
       "    </tr>\n",
       "    <tr>\n",
       "      <th>559</th>\n",
       "      <td>Os12g0614500</td>\n",
       "    </tr>\n",
       "    <tr>\n",
       "      <th>560</th>\n",
       "      <td>Os12g0617250</td>\n",
       "    </tr>\n",
       "    <tr>\n",
       "      <th>561</th>\n",
       "      <td>Os12g0622850</td>\n",
       "    </tr>\n",
       "    <tr>\n",
       "      <th>562</th>\n",
       "      <td>Os12g0624300</td>\n",
       "    </tr>\n",
       "    <tr>\n",
       "      <th>563</th>\n",
       "      <td>Os12g0639500</td>\n",
       "    </tr>\n",
       "  </tbody>\n",
       "</table>\n",
       "<p>564 rows × 1 columns</p>\n",
       "</div>"
      ],
      "text/plain": [
       "                0\n",
       "0    Os01g0106400\n",
       "1    Os01g0113500\n",
       "2    Os01g0114100\n",
       "3    Os01g0121500\n",
       "4    Os01g0121600\n",
       "..            ...\n",
       "559  Os12g0614500\n",
       "560  Os12g0617250\n",
       "561  Os12g0622850\n",
       "562  Os12g0624300\n",
       "563  Os12g0639500\n",
       "\n",
       "[564 rows x 1 columns]"
      ]
     },
     "execution_count": 18,
     "metadata": {},
     "output_type": "execute_result"
    }
   ],
   "source": [
    "b"
   ]
  },
  {
   "cell_type": "code",
   "execution_count": 19,
   "id": "77c53638-c30c-4ce7-aebc-87c248c0cf5b",
   "metadata": {},
   "outputs": [],
   "source": [
    "b.to_excel('/data/doodle/match.xlsx')"
   ]
  }
 ],
 "metadata": {
  "kernelspec": {
   "display_name": "Python 3 (ipykernel)",
   "language": "python",
   "name": "python3"
  },
  "language_info": {
   "codemirror_mode": {
    "name": "ipython",
    "version": 3
   },
   "file_extension": ".py",
   "mimetype": "text/x-python",
   "name": "python",
   "nbconvert_exporter": "python",
   "pygments_lexer": "ipython3",
   "version": "3.11.0"
  }
 },
 "nbformat": 4,
 "nbformat_minor": 5
}
